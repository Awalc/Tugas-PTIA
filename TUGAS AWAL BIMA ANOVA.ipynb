{
  "cells": [
    {
      "cell_type": "code",
      "execution_count": null,
      "metadata": {
        "id": "1yEAs7w6Pt_2"
      },
      "outputs": [],
      "source": [
        "#!pip install bioinfokit"
      ]
    },
    {
      "cell_type": "code",
      "execution_count": null,
      "metadata": {
        "colab": {
          "base_uri": "https://localhost:8080/"
        },
        "id": "udf46ZwgPt_9",
        "outputId": "1f2946db-084a-4f25-d9b0-ea11bce9fa0f"
      },
      "outputs": [
        {
          "output_type": "stream",
          "name": "stderr",
          "text": [
            "/usr/local/lib/python3.7/dist-packages/statsmodels/tools/_testing.py:19: FutureWarning: pandas.util.testing is deprecated. Use the functions in the public API at pandas.testing instead.\n",
            "  import pandas.util.testing as tm\n"
          ]
        }
      ],
      "source": [
        "import matplotlib.pyplot as plt\n",
        "from scipy import stats\n",
        "import math\n",
        "import numpy as np\n",
        "import seaborn as sns\n",
        "import pandas as pd\n",
        "from bioinfokit.analys import stat\n",
        "\n",
        "plt.style.use('seaborn')"
      ]
    },
    {
      "cell_type": "markdown",
      "metadata": {
        "id": "AqjhzHYwPt_-"
      },
      "source": [
        "## Cek Kenormalan"
      ]
    },
    {
      "cell_type": "code",
      "execution_count": null,
      "metadata": {
        "id": "tF7syvW-PuAB"
      },
      "outputs": [],
      "source": [
        "def CekNormal (data):\n",
        "    \"\"\"Sebelum melakukan uji Anova, Sebaiknya data diuji dulu kenormalannya.\n",
        "    Hal ini jelas karena asumsi dari ANOVA adalah data berdistribusi normal\"\"\"\n",
        "    \n",
        "    #Ubah data ke dalam long_format\n",
        "    long_format = data.melt()\n",
        "    \n",
        "    #seluruh kategori yang ada\n",
        "    kategories = long_format['variable'].unique()\n",
        "    \n",
        "    #Kita menguji value untuk setiap kategori\n",
        "    for kategori in kategories :\n",
        "        print('Kelompok '+kategori)\n",
        "        \n",
        "        #ambil datanya\n",
        "        nilai_kategori=long_format[long_format['variable']==kategori]['value']\n",
        "        #uji\n",
        "        print(stats.shapiro(nilai_kategori))"
      ]
    },
    {
      "cell_type": "markdown",
      "metadata": {
        "id": "HYG0WsvGPuAD"
      },
      "source": [
        "## Cek Kesamaan Varians"
      ]
    },
    {
      "cell_type": "code",
      "execution_count": null,
      "metadata": {
        "id": "D2QlSZ7tPuAD"
      },
      "outputs": [],
      "source": [
        "def CekHomogenitas(data, alfa=0.05):\n",
        "    \"\"\"Salah satu asumsi ANOVA adalah kesamaan varians.\n",
        "    Dengan begini, kita harus lakukan uji kesamaan varians dahulu sebelum melakukan uji anova.\"\"\"\n",
        "    \n",
        "    #Buat kedalam long format\n",
        "    long_format = data.melt()\n",
        "    \n",
        "    #buat fungsi untuk stat()\n",
        "    res=stat()\n",
        "    #gunakan levene\n",
        "    res.levene(df=long_format,\n",
        "              res_var='value',\n",
        "              xfac_var='variable')\n",
        "    \n",
        "    #hasil levene\n",
        "    print(res.levene_summary)"
      ]
    },
    {
      "cell_type": "markdown",
      "metadata": {
        "id": "XIc9TtC2PuAF"
      },
      "source": [
        "## Uji ANOVA"
      ]
    },
    {
      "cell_type": "code",
      "execution_count": null,
      "metadata": {
        "id": "cdsEeQfbPuAG"
      },
      "outputs": [],
      "source": [
        "def anova(data, alfa=0.05):\n",
        "    \"\"\"data yang diinput merupakan pandas DataFrame.\n",
        "    \n",
        "    Sebelum melakukan uji ini, perlu diperhatikan bahwa harus dipenuhi beberapa asumsi berikut:\n",
        "    1. Populasi harus berasal dari distribusi normal.\n",
        "    2. Populasi haruslah memiliki varians yang sama.\n",
        "    3. Sampel harus diambil secara independen.\n",
        "    \n",
        "    Uji anova dilakukan dengan cara menggunakan soal latihan mata kuliah Probabilitas dan Statistika berikut:\n",
        "   \n",
        "    Seorang petugas ingin melihat apakah ada perbedaan signifikan pada jumlah pegawai di tiap \n",
        "    gerbang tol yang membatasi 3 negara bagian. Data tersedia dibawah ini. Dengan α = 0.05,\n",
        "    dapatkah di konklusikan bahwa ada perbedaan signifikan dari jumlah rata-rata pegawai pada \n",
        "    gerbang tol \"\"\"\n",
        "    \n",
        "    #mencari n dan k\n",
        "    for kolom in data.columns:\n",
        "        n=len(data[kolom])\n",
        "        k=len(data.columns)\n",
        "        break\n",
        "        \n",
        "    #mencari rata-rata tiap populasi\n",
        "    means=[]\n",
        "    for kolom in data.columns:\n",
        "        means.append(data[kolom].mean())\n",
        "        \n",
        "    #mencari rata-rata total\n",
        "    mean_total=0\n",
        "    for mean in means:\n",
        "        mean_total=mean_total+mean\n",
        "    mean_total=mean_total/len(means)\n",
        "    \n",
        "    #mencari varians antarpopulasi\n",
        "    var_sampel_antar_populasi=0\n",
        "    for mean in means:\n",
        "        var_sampel_antar_populasi=var_sampel_antar_populasi+(mean-mean_total)**2\n",
        "    var_sampel_antar_populasi = n*var_sampel_antar_populasi/(len(means)-1) #ini yang akan digunakan sebagai pembilang\n",
        "    \n",
        "    #mencari standar deviasi tiap populasi\n",
        "    var_sampels_dalam_populasi=[]\n",
        "    for kolom in data.columns:\n",
        "        var_sampels_dalam_populasi.append(data[kolom].var(ddof=1))\n",
        "    \n",
        "    #rata_rata std_sampel dalam populasi\n",
        "    var_sampel_dalam_populasi=0\n",
        "    for var in var_sampels_dalam_populasi:\n",
        "        var_sampel_dalam_populasi=var_sampel_dalam_populasi+var\n",
        "        \n",
        "    var_sampel_dalam_populasi=var_sampel_dalam_populasi/len(var_sampels_dalam_populasi) #ini yang akan digunakan sebagai penyebut\n",
        "    \n",
        "    #print(var_sampel_antar_populasi)\n",
        "    #print(var_sampel_dalam_populasi)\n",
        "    \n",
        "    F=var_sampel_antar_populasi/var_sampel_dalam_populasi\n",
        "    degree_of_freedom_pembilang=k-1\n",
        "    degree_of_freedom_penyebut=k*(n-1)\n",
        "    critical=stats.f.ppf(1-alfa, dfn=degree_of_freedom_pembilang, dfd=degree_of_freedom_penyebut)\n",
        "    \n",
        "    # Kita plot datanya, pertama-tama buat dulu menjadi long_format\n",
        "    \n",
        "    long_format = data.melt()\n",
        "    sns.boxplot(x='variable',\n",
        "                y='value',\n",
        "                data=long_format)\n",
        "    plt.xlabel('Kelompok')\n",
        "    plt.title('Boxplot Data')\n",
        "    \n",
        "    #hasil kesimpulan\n",
        "    tolak_h0 = True if F>critical else False\n",
        "    if tolak_h0:\n",
        "        print(f\"nilai F={F}, nilai critical={critical}\")\n",
        "        print(\"H0 ditolak\")\n",
        "    else:\n",
        "        print(f\"nilai F={F}, nilai critical={critical}\")\n",
        "        print(\"H0 gagal ditolak\")"
      ]
    },
    {
      "cell_type": "markdown",
      "metadata": {
        "id": "X693iXqlPuAI"
      },
      "source": [
        "## Data Uji"
      ]
    },
    {
      "cell_type": "code",
      "execution_count": null,
      "metadata": {
        "colab": {
          "base_uri": "https://localhost:8080/",
          "height": 238
        },
        "id": "7lo7iuHnPuAJ",
        "outputId": "e0207488-b99d-4260-f340-a68906a277b5"
      },
      "outputs": [
        {
          "output_type": "execute_result",
          "data": {
            "text/html": [
              "\n",
              "  <div id=\"df-b9c1855b-b087-4a4e-ad02-76f920ab62aa\">\n",
              "    <div class=\"colab-df-container\">\n",
              "      <div>\n",
              "<style scoped>\n",
              "    .dataframe tbody tr th:only-of-type {\n",
              "        vertical-align: middle;\n",
              "    }\n",
              "\n",
              "    .dataframe tbody tr th {\n",
              "        vertical-align: top;\n",
              "    }\n",
              "\n",
              "    .dataframe thead th {\n",
              "        text-align: right;\n",
              "    }\n",
              "</style>\n",
              "<table border=\"1\" class=\"dataframe\">\n",
              "  <thead>\n",
              "    <tr style=\"text-align: right;\">\n",
              "      <th></th>\n",
              "      <th>tumpike</th>\n",
              "      <th>bypass</th>\n",
              "      <th>expressway</th>\n",
              "    </tr>\n",
              "  </thead>\n",
              "  <tbody>\n",
              "    <tr>\n",
              "      <th>0</th>\n",
              "      <td>7</td>\n",
              "      <td>10</td>\n",
              "      <td>1</td>\n",
              "    </tr>\n",
              "    <tr>\n",
              "      <th>1</th>\n",
              "      <td>14</td>\n",
              "      <td>1</td>\n",
              "      <td>12</td>\n",
              "    </tr>\n",
              "    <tr>\n",
              "      <th>2</th>\n",
              "      <td>32</td>\n",
              "      <td>1</td>\n",
              "      <td>1</td>\n",
              "    </tr>\n",
              "    <tr>\n",
              "      <th>3</th>\n",
              "      <td>19</td>\n",
              "      <td>0</td>\n",
              "      <td>9</td>\n",
              "    </tr>\n",
              "    <tr>\n",
              "      <th>4</th>\n",
              "      <td>10</td>\n",
              "      <td>11</td>\n",
              "      <td>1</td>\n",
              "    </tr>\n",
              "    <tr>\n",
              "      <th>5</th>\n",
              "      <td>11</td>\n",
              "      <td>1</td>\n",
              "      <td>11</td>\n",
              "    </tr>\n",
              "  </tbody>\n",
              "</table>\n",
              "</div>\n",
              "      <button class=\"colab-df-convert\" onclick=\"convertToInteractive('df-b9c1855b-b087-4a4e-ad02-76f920ab62aa')\"\n",
              "              title=\"Convert this dataframe to an interactive table.\"\n",
              "              style=\"display:none;\">\n",
              "        \n",
              "  <svg xmlns=\"http://www.w3.org/2000/svg\" height=\"24px\"viewBox=\"0 0 24 24\"\n",
              "       width=\"24px\">\n",
              "    <path d=\"M0 0h24v24H0V0z\" fill=\"none\"/>\n",
              "    <path d=\"M18.56 5.44l.94 2.06.94-2.06 2.06-.94-2.06-.94-.94-2.06-.94 2.06-2.06.94zm-11 1L8.5 8.5l.94-2.06 2.06-.94-2.06-.94L8.5 2.5l-.94 2.06-2.06.94zm10 10l.94 2.06.94-2.06 2.06-.94-2.06-.94-.94-2.06-.94 2.06-2.06.94z\"/><path d=\"M17.41 7.96l-1.37-1.37c-.4-.4-.92-.59-1.43-.59-.52 0-1.04.2-1.43.59L10.3 9.45l-7.72 7.72c-.78.78-.78 2.05 0 2.83L4 21.41c.39.39.9.59 1.41.59.51 0 1.02-.2 1.41-.59l7.78-7.78 2.81-2.81c.8-.78.8-2.07 0-2.86zM5.41 20L4 18.59l7.72-7.72 1.47 1.35L5.41 20z\"/>\n",
              "  </svg>\n",
              "      </button>\n",
              "      \n",
              "  <style>\n",
              "    .colab-df-container {\n",
              "      display:flex;\n",
              "      flex-wrap:wrap;\n",
              "      gap: 12px;\n",
              "    }\n",
              "\n",
              "    .colab-df-convert {\n",
              "      background-color: #E8F0FE;\n",
              "      border: none;\n",
              "      border-radius: 50%;\n",
              "      cursor: pointer;\n",
              "      display: none;\n",
              "      fill: #1967D2;\n",
              "      height: 32px;\n",
              "      padding: 0 0 0 0;\n",
              "      width: 32px;\n",
              "    }\n",
              "\n",
              "    .colab-df-convert:hover {\n",
              "      background-color: #E2EBFA;\n",
              "      box-shadow: 0px 1px 2px rgba(60, 64, 67, 0.3), 0px 1px 3px 1px rgba(60, 64, 67, 0.15);\n",
              "      fill: #174EA6;\n",
              "    }\n",
              "\n",
              "    [theme=dark] .colab-df-convert {\n",
              "      background-color: #3B4455;\n",
              "      fill: #D2E3FC;\n",
              "    }\n",
              "\n",
              "    [theme=dark] .colab-df-convert:hover {\n",
              "      background-color: #434B5C;\n",
              "      box-shadow: 0px 1px 3px 1px rgba(0, 0, 0, 0.15);\n",
              "      filter: drop-shadow(0px 1px 2px rgba(0, 0, 0, 0.3));\n",
              "      fill: #FFFFFF;\n",
              "    }\n",
              "  </style>\n",
              "\n",
              "      <script>\n",
              "        const buttonEl =\n",
              "          document.querySelector('#df-b9c1855b-b087-4a4e-ad02-76f920ab62aa button.colab-df-convert');\n",
              "        buttonEl.style.display =\n",
              "          google.colab.kernel.accessAllowed ? 'block' : 'none';\n",
              "\n",
              "        async function convertToInteractive(key) {\n",
              "          const element = document.querySelector('#df-b9c1855b-b087-4a4e-ad02-76f920ab62aa');\n",
              "          const dataTable =\n",
              "            await google.colab.kernel.invokeFunction('convertToInteractive',\n",
              "                                                     [key], {});\n",
              "          if (!dataTable) return;\n",
              "\n",
              "          const docLinkHtml = 'Like what you see? Visit the ' +\n",
              "            '<a target=\"_blank\" href=https://colab.research.google.com/notebooks/data_table.ipynb>data table notebook</a>'\n",
              "            + ' to learn more about interactive tables.';\n",
              "          element.innerHTML = '';\n",
              "          dataTable['output_type'] = 'display_data';\n",
              "          await google.colab.output.renderOutput(dataTable, element);\n",
              "          const docLink = document.createElement('div');\n",
              "          docLink.innerHTML = docLinkHtml;\n",
              "          element.appendChild(docLink);\n",
              "        }\n",
              "      </script>\n",
              "    </div>\n",
              "  </div>\n",
              "  "
            ],
            "text/plain": [
              "   tumpike  bypass  expressway\n",
              "0        7      10           1\n",
              "1       14       1          12\n",
              "2       32       1           1\n",
              "3       19       0           9\n",
              "4       10      11           1\n",
              "5       11       1          11"
            ]
          },
          "metadata": {},
          "execution_count": 12
        }
      ],
      "source": [
        "x1=[7, 14, 32, 19, 10, 11]\n",
        "x2=[10, 1, 1, 0, 11, 1]\n",
        "x3=[1, 12, 1, 9, 1, 11]\n",
        "coba=pd.DataFrame({'tumpike':x1,\n",
        "                  'bypass':x2,\n",
        "                  'expressway':x3})\n",
        "coba"
      ]
    },
    {
      "cell_type": "code",
      "execution_count": null,
      "metadata": {
        "colab": {
          "base_uri": "https://localhost:8080/"
        },
        "id": "WDTP1z2UPuAL",
        "outputId": "276e58c2-03f0-4ed4-febe-7c818fb91ea9"
      },
      "outputs": [
        {
          "output_type": "stream",
          "name": "stdout",
          "text": [
            "Kelompok tumpike\n",
            "(0.8691214919090271, 0.2227257788181305)\n",
            "Kelompok bypass\n",
            "(0.7198642492294312, 0.009942309930920601)\n",
            "Kelompok expressway\n",
            "(0.7737154960632324, 0.03365766257047653)\n"
          ]
        }
      ],
      "source": [
        "CekNormal(coba)"
      ]
    },
    {
      "cell_type": "code",
      "execution_count": null,
      "metadata": {
        "colab": {
          "base_uri": "https://localhost:8080/"
        },
        "id": "eKwjol4kPuAM",
        "outputId": "d5d8d15a-3331-4fe6-c0dd-9b37a99203a2"
      },
      "outputs": [
        {
          "output_type": "stream",
          "name": "stdout",
          "text": [
            "                 Parameter   Value\n",
            "0      Test statistics (W)  0.5030\n",
            "1  Degrees of freedom (Df)  2.0000\n",
            "2                  p value  0.6146\n"
          ]
        }
      ],
      "source": [
        "CekHomogenitas(coba)"
      ]
    },
    {
      "cell_type": "code",
      "execution_count": null,
      "metadata": {
        "colab": {
          "base_uri": "https://localhost:8080/",
          "height": 411
        },
        "id": "7xR0GtJWPuAN",
        "outputId": "6c3823ce-7ab6-42c5-b377-d1acefb42ecc"
      },
      "outputs": [
        {
          "output_type": "stream",
          "name": "stdout",
          "text": [
            "nilai F=5.035417684416219, nilai critical=3.6823203436732412\n",
            "H0 ditolak, rata-rata dari populasi tidak semuanya sama \n"
          ]
        },
        {
          "output_type": "display_data",
          "data": {
            "image/png": "[encoded data removed]",
            "text/plain": [
              "<Figure size 576x396 with 1 Axes>"
            ]
          },
          "metadata": {}
        }
      ],
      "source": [
        "anova(data=coba, alfa=0.05)"
      ]
    }
  ],
  "metadata": {
    "kernelspec": {
      "display_name": "Python 3",
      "language": "python",
      "name": "python3"
    },
    "language_info": {
      "codemirror_mode": {
        "name": "ipython",
        "version": 3
      },
      "file_extension": ".py",
      "mimetype": "text/x-python",
      "name": "python",
      "nbconvert_exporter": "python",
      "pygments_lexer": "ipython3",
      "version": "3.8.5"
    },
    "colab": {
      "name": "Anova-Bima.ipynb",
      "provenance": [],
      "collapsed_sections": []
    }
  },
  "nbformat": 4,
  "nbformat_minor": 0
}